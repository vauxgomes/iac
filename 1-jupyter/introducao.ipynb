{
 "cells": [
  {
   "cell_type": "markdown",
   "id": "9ff1e835",
   "metadata": {},
   "source": [
    "# Introdução ao Jupyter\n",
    "\n",
    "Esta é uma célula de texto **Markdown**, onde podemos criar listas, colocar comentários,  trechos de códigos, importar imagens, etc."
   ]
  },
  {
   "cell_type": "code",
   "execution_count": 1,
   "id": "9256c89a",
   "metadata": {},
   "outputs": [
    {
     "name": "stdout",
     "output_type": "stream",
     "text": [
      "10 elevado ao quadrado é: 100\n"
     ]
    }
   ],
   "source": [
    "# Aqui é uma céluda de código Python\n",
    "valor = 10\n",
    "print(f'{valor} elevado ao quadrado é: {valor**2}')"
   ]
  },
  {
   "cell_type": "markdown",
   "id": "684d084e",
   "metadata": {},
   "source": [
    "## Tarefa 1\n",
    "\n",
    "1. Preencha a célula abaixo com um código que incrementa a variável `valor` em 10 unidades\n",
    "1. Preencha a próxima célula com um códio que imprime a variável `valor`\n",
    "1. Execute a primeira célula criada algumas vezes e depois execute a segunda célula"
   ]
  },
  {
   "cell_type": "code",
   "execution_count": null,
   "id": "cf6cde75",
   "metadata": {},
   "outputs": [],
   "source": []
  },
  {
   "cell_type": "code",
   "execution_count": null,
   "id": "d75fcde0",
   "metadata": {},
   "outputs": [],
   "source": []
  },
  {
   "cell_type": "markdown",
   "id": "225dcf4c",
   "metadata": {},
   "source": [
    "## Tarefa 2\n",
    "\n",
    "Crie um programa que pede dois números ao usuário e imprime uma frase informando qual é o maior dos dois valores ou se ambos são iguais.\n",
    "\n",
    "\n",
    "<div class=\"alert alert-block alert-info\">\n",
    "    <b>Info:</b> Use a função <code>input</code> para pegar dados do usuário\n",
    "</div>\n",
    "\n",
    "1. Exemplo de saída\n",
    "    ```\n",
    "    O valor 10 é maior que o valor 8\n",
    "    ```\n",
    "\n",
    "1. Exemplo de saída\n",
    "    ```\n",
    "    Ambos os valores são iguais a 10\n",
    "    ```"
   ]
  },
  {
   "cell_type": "code",
   "execution_count": null,
   "id": "925d06ff",
   "metadata": {},
   "outputs": [],
   "source": []
  },
  {
   "cell_type": "markdown",
   "id": "0896387f",
   "metadata": {},
   "source": [
    "## Tarefa 3\n",
    "\n",
    "Dado o vetor [3, 1"
   ]
  },
  {
   "cell_type": "code",
   "execution_count": null,
   "id": "1a93cd26",
   "metadata": {},
   "outputs": [],
   "source": []
  }
 ],
 "metadata": {
  "kernelspec": {
   "display_name": "Python 3 (ipykernel)",
   "language": "python",
   "name": "python3"
  },
  "language_info": {
   "codemirror_mode": {
    "name": "ipython",
    "version": 3
   },
   "file_extension": ".py",
   "mimetype": "text/x-python",
   "name": "python",
   "nbconvert_exporter": "python",
   "pygments_lexer": "ipython3",
   "version": "3.10.6"
  }
 },
 "nbformat": 4,
 "nbformat_minor": 5
}
